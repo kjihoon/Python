{
 "cells": [
  {
   "cell_type": "markdown",
   "metadata": {},
   "source": [
    "### Python 자료 구조 익히기 (Numeric, Boolean, String)\n",
    "##### 1. Numeric Type"
   ]
  },
  {
   "cell_type": "code",
   "execution_count": 13,
   "metadata": {},
   "outputs": [
    {
     "name": "stdout",
     "output_type": "stream",
     "text": [
      "num1_type:  <class 'int'>\n",
      "num2_type:  <class 'float'>\n"
     ]
    }
   ],
   "source": [
    "# integer 정수형\n",
    "num1 = 1\n",
    "num1_type = type(num1)\n",
    "print(\"num1_type: \",num1_type) # num1_type:  <class 'int'>\n",
    "\n",
    "\n",
    "\n",
    "# float 실수형\n",
    "num2 = 1.5\n",
    "num2_type = type(num2)\n",
    "print(\"num2_type: \",num2_type) # num2_type:  <class 'float'>"
   ]
  },
  {
   "cell_type": "code",
   "execution_count": 22,
   "metadata": {},
   "outputs": [
    {
     "name": "stdout",
     "output_type": "stream",
     "text": [
      "convert_num1_type:  <class 'float'>\n",
      "convert_num2_type:  <class 'int'>\n"
     ]
    }
   ],
   "source": [
    "# convert to float from integer type\n",
    "# 1(정수형) => 1.0(실수형) 으로 변환\n",
    "convert_num1 = float(num1) # >>> 1.0\n",
    "convert_num1_type = type(convert_num1)\n",
    "print(\"convert_num1_type: \",convert_num1_type)\n",
    "\n",
    "# convert to integer from float type\n",
    "# 1.5(실수형) => 1(정수형) 으로 변환\n",
    "convert_num2 = int(num2)  # >>> 1\n",
    "convert_num2_type = type(convert_num2)\n",
    "print(\"convert_num2_type: \",convert_num2_type)"
   ]
  },
  {
   "cell_type": "markdown",
   "metadata": {},
   "source": [
    "#### 1-1.  Numeric type 연산"
   ]
  },
  {
   "cell_type": "code",
   "execution_count": 43,
   "metadata": {},
   "outputs": [
    {
     "name": "stdout",
     "output_type": "stream",
     "text": [
      "1.6666666666666667\n",
      "1\n",
      "2\n",
      "125\n",
      "7.5\n"
     ]
    }
   ],
   "source": [
    "# 연산 우선 순위  (+ - * / // %  **) 반드시 외울 필요는 없지만 우선순위가 존재한다는것을 알면 계산이 편해짐\n",
    "a = 5\n",
    "b = 3\n",
    "c = 2.5\n",
    "\n",
    "a+b # 8\n",
    "a-b # 2\n",
    "a*b # 15\n",
    "\n",
    "###### / 과 //의 차이\n",
    "# / => 실수형으로 계산 결과값 반환\n",
    "print(a/b) # 1.6666666666666667\n",
    "\n",
    "# // => 몫만 반환\n",
    "print(a//b) # 1\n",
    "\n",
    "##### % => 나머지만 반환\n",
    "print(a%b) # 2\n",
    "\n",
    "#### a**b a의 b승 반환 \n",
    "print(a**b) #125\n",
    "\n",
    "# 참고\n",
    "result = a + c   # 정수와 실수의 연산결과는 실수로 반환\n",
    "print(result) # 7.5"
   ]
  },
  {
   "cell_type": "markdown",
   "metadata": {},
   "source": [
    "#### 2. Boolean Type (논리형)"
   ]
  },
  {
   "cell_type": "code",
   "execution_count": 46,
   "metadata": {},
   "outputs": [
    {
     "data": {
      "text/plain": [
       "True"
      ]
     },
     "execution_count": 46,
     "metadata": {},
     "output_type": "execute_result"
    }
   ],
   "source": [
    "flag1 = True\n",
    "flag2 = False\n",
    "\n",
    "# 비교 연산자\n",
    "4 == 5 ## False\n",
    "4 != 5 ## True\n",
    "4 > 5 ## Flase\n",
    "4 < 5 ## True"
   ]
  },
  {
   "cell_type": "markdown",
   "metadata": {},
   "source": [
    "#### 2-1. 여러 비교연산자 사용하기"
   ]
  },
  {
   "cell_type": "code",
   "execution_count": 70,
   "metadata": {},
   "outputs": [
    {
     "name": "stdout",
     "output_type": "stream",
     "text": [
      "True\n",
      "True\n",
      "False\n",
      "True\n",
      "False\n"
     ]
    }
   ],
   "source": [
    "### 논리1 or 논리2 (논리1 또는 논리2가 하나라도 True라면 True 반환 아니면 False)\n",
    "# 'or' 과 '|' 동일\n",
    "result_or1 = (4 < 5) or (3 > 5)\n",
    "result_or2 = (4 < 5) | (3 > 5)\n",
    "print(result_or1) # True\n",
    "print(result_or2) # True\n",
    "\n",
    "### 논리1 and 논리2 (모두 True일때 True 반환)\n",
    "result_and1 = (4 < 5) and (3 > 5)\n",
    "result_and2 = (4 < 5) & (3 < 5)\n",
    "print(result_and1) # False\n",
    "print(result_and2) # True\n",
    "\n",
    "### not \n",
    "result_not= not (4 < 5)\n",
    "print(result_not)\n"
   ]
  },
  {
   "cell_type": "markdown",
   "metadata": {},
   "source": [
    "#### 3. String Type"
   ]
  },
  {
   "cell_type": "code",
   "execution_count": 77,
   "metadata": {},
   "outputs": [
    {
     "name": "stdout",
     "output_type": "stream",
     "text": [
      "하이 한정\n",
      "하이 한정\n",
      "하이한정 '나는 지훈이야 '\n"
     ]
    }
   ],
   "source": [
    "### \"\" 또는 '' 으로 감싸야함\n",
    "str1 = \"하이 한정\"\n",
    "str2 = '하이 한정'\n",
    "\n",
    "print(str1)\n",
    "print(str2)\n",
    "\n",
    "# 문자열 내에 따옴표 넣고 싶을때!\n",
    "str3 = \"하이한정 '나는 지훈이야 '\"\n",
    "print(str3) "
   ]
  },
  {
   "cell_type": "code",
   "execution_count": 83,
   "metadata": {},
   "outputs": [
    {
     "name": "stdout",
     "output_type": "stream",
     "text": [
      "하이한정\n",
      "나는 지훈이야(한줄 띄기)\n",
      "하이한정\t나는 지훈이야\n"
     ]
    }
   ],
   "source": [
    "# \\n 한줄 띄기(enter와 동일)\n",
    "str4 = \"하이한정\\n나는 지훈이야(한줄 띄기)\"\n",
    "print(str4)\n",
    "\n",
    "# \\t (tab과 동일)\n",
    "str5 = \"하이한정\\t나는 지훈이야\"\n",
    "print(str5)"
   ]
  },
  {
   "cell_type": "code",
   "execution_count": 101,
   "metadata": {},
   "outputs": [
    {
     "name": "stdout",
     "output_type": "stream",
     "text": [
      "지훈한정 문자열이 합쳐졌습니다.\n",
      "지훈는 27살 입니다.\n",
      "지훈 지훈 지훈 지훈 지훈 지훈 지훈 지훈 지훈 지훈 \n"
     ]
    }
   ],
   "source": [
    "## 문자열 합치기\n",
    "\n",
    "str5 = \"지훈\"\n",
    "str6 = \"한정\"\n",
    "str7 = str5+str6+\" 문자열이 합쳐졌습니다.\"\n",
    "print(str7)\n",
    "\n",
    "## 숫자 문자로 변환\n",
    "## repr(Numeric Type)\n",
    "## str(Numeric Type)\n",
    "num = 27\n",
    "#str8 = str5+\"는 \"+ num +\"살 입니다.\" #TypeError: must be str, not int \n",
    "str8 = str5+\"는 \"+ repr(num) +\"살 입니다.\" #TypeError: must be str, not int !!!\n",
    "print(str8)\n",
    "\n",
    "## 문자 반복\n",
    "str9 = \"지훈 \" *10\n",
    "print(str9) #지훈 지훈 지훈 지훈 지훈 지훈 지훈 지훈 지훈 지훈"
   ]
  },
  {
   "cell_type": "code",
   "execution_count": 110,
   "metadata": {},
   "outputs": [
    {
     "name": "stdout",
     "output_type": "stream",
     "text": [
      "파이썬은 정말 꿀잼\n"
     ]
    }
   ],
   "source": [
    "## 그외 유용한 문자열 함수\n",
    "str10 = \"파이썬은 정말 노잼\"\n",
    "\n",
    "len(str10) # 글자수 반환 => 10\n",
    "\n",
    "##문자열 객채에서 사용가능한 함수  ex) 문자열.function()\n",
    "str10.startswith(\"파이썬\") # boolean 반환, 해당 글자로 시작하는 문자열인가? => True\n",
    "\n",
    "str10.endswith(\"꿀잼\") # boolean 반환, 해당 글자로 끝나는 문자열인가? => False\n",
    "\n",
    "str11 = str10.replace(\"노잼\",\"꿀잼\") #  string 반환, 선행 변수(\"노잼\")와 동일한 문자 찾아서 후행 변수(\"꿀잼\")으로 변환\n",
    "print(str11) # 파이썬은 정말 꾸램\n",
    "\n"
   ]
  }
 ],
 "metadata": {
  "kernelspec": {
   "display_name": "Python 3",
   "language": "python",
   "name": "python3"
  },
  "language_info": {
   "codemirror_mode": {
    "name": "ipython",
    "version": 3
   },
   "file_extension": ".py",
   "mimetype": "text/x-python",
   "name": "python",
   "nbconvert_exporter": "python",
   "pygments_lexer": "ipython3",
   "version": "3.6.4"
  }
 },
 "nbformat": 4,
 "nbformat_minor": 2
}
