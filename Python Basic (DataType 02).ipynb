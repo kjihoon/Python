{
 "cells": [
  {
   "cell_type": "markdown",
   "metadata": {},
   "source": [
    "### Python 자료 구조 익히기 (List)\n",
    "##### 4. List"
   ]
  },
  {
   "cell_type": "code",
   "execution_count": 5,
   "metadata": {},
   "outputs": [
    {
     "name": "stdout",
     "output_type": "stream",
     "text": [
      "[]\n",
      "[]\n"
     ]
    }
   ],
   "source": [
    "## 리스트 익히기\n",
    "## 리스트선언\n",
    "\n",
    "# 빈리스트 생성\n",
    "my_list1 = list()\n",
    "my_list2 = []\n",
    "\n",
    "print(my_list1)\n",
    "print(my_list2)"
   ]
  },
  {
   "cell_type": "code",
   "execution_count": 32,
   "metadata": {},
   "outputs": [
    {
     "name": "stdout",
     "output_type": "stream",
     "text": [
      "[1, 2, 3]\n",
      "[1, 2, 3, 'String', True]\n",
      "[1, 2, 3, 4, 5, 6]\n",
      "[1, 2, 3, 1, 2, 3, 'String', True]\n",
      "[1, 2, 3, 1, 2, 3, 'String', True, 5]\n",
      "[2, 3, 1, 2, 3, 'String', True, 5]\n",
      "['항목 추가', 2, 3, 1, 2, 3, 'String', True, 5]\n",
      "[2, 3, 1, 2, 3, 'String', True, 5]\n"
     ]
    }
   ],
   "source": [
    "# 리스트 특징\n",
    "\n",
    "## 1. 여러 Type의 element를 넣을 수 있음\n",
    "my_list1 = [1,2,3]\n",
    "print(my_list1)\n",
    "my_list2 = [1,2,3,\"String\",True]\n",
    "print(my_list2)\n",
    "\n",
    "## 2. 두개 이상의 list를 하나의 list로 합칠 수 있음\n",
    "## * list + list 는 더하는게 아니라 말그대로 합하는 거다!\n",
    "l1 = [1,2,3]\n",
    "l2 = [4,5,6]\n",
    "l3 = l1 + l2\n",
    "\n",
    "# l3을 [5,7,9]로 예상했다면 큰 오산이다....\n",
    "print(l3) #[1, 2, 3, 4, 5, 6] \n",
    "\n",
    "my_list3 = my_list1 + my_list2\n",
    "print(my_list3) #[1, 2, 3, 1, 2, 3, 'String', True]\n",
    "\n",
    "## 3. list type에는 여러 function을 제공한다.\n",
    "# 3-1. list.append(x)  #반환값 없음\n",
    "my_list3.append(5) # list.append(x) , list에 x를 append 해준다. **반환값 없이 list에 그대로 append 해준다\n",
    "print(my_list3) #[1, 2, 3, 1, 2, 3, 'String', True, 5]\n",
    "\n",
    "# 3-2. list.remove(x) #반환값 없음\n",
    "my_list3.remove(1) # list.remove(x), list내에서 x(특정 값) 을 제거해준다.\n",
    "print(my_list3) # 일치하는 모든 x를 제거하는 것이 아니라 일치하는 하나를 제거한다!!! (중요)\n",
    "\n",
    "# 3-3 list.insert(idx,x) #반환값 없음\n",
    "my_list3.insert(0,\"항목 추가\") # 특정 index에  x 추가\n",
    "print(my_list3)\n",
    "\n",
    "# 3-4 list.pop(idx)  # 특정 index에 있는 값 반환 및 리스트에서 해당 값 제거\n",
    "my_list3.pop(0) # 특정 idx값 추출 및 제거\n",
    "print(my_list3)"
   ]
  },
  {
   "cell_type": "code",
   "execution_count": 45,
   "metadata": {},
   "outputs": [
    {
     "name": "stdout",
     "output_type": "stream",
     "text": [
      "[2, 3]\n",
      "[1, 2, 3]\n",
      "[1, 2, 3]\n",
      "1\n",
      "[1]\n",
      "4\n",
      "3\n"
     ]
    }
   ],
   "source": [
    "## 4. list 슬라이싱\n",
    "# list[start:end]\n",
    "mylist = [1,2,3,4,5]\n",
    "\n",
    "# list 반환\n",
    "print(mylist[1:3]) # [2, 3] start지점부터 end-1 지점까지 indexing\n",
    "\n",
    "# list 반환\n",
    "print(mylist[:3]) # [1,2,3] start 또는 end 비어 놓으면 처음 또는 끝을 의미\n",
    "\n",
    "# list 반환\n",
    "print(mylist[:-2]) # 처음부터 끝 idx 까지, 바로 위와 사실 동일\n",
    "\n",
    "\n",
    "## 같아 보여도 아래 두개는 반환되는 data type가 다르다!!\n",
    "# element 반환\n",
    "print(mylist[0]) # 1\n",
    "# list 반환\n",
    "print(mylist[0:1]) # [1]\n",
    "\n",
    "\n",
    "## list indexing\n",
    "print(mylist[3]) # 앞에서 3번째 요소 인덱싱\n",
    "print(mylist[-3]) # 3번째 idx를 빼는것이 아니라, 뒤에서 3번째를 인덱싱하는것임\n"
   ]
  },
  {
   "cell_type": "code",
   "execution_count": null,
   "metadata": {},
   "outputs": [],
   "source": [
    "### 5. list 크기 확장하기\n",
    "\n",
    "## + 와 extend의 차이\n",
    "a = [1,2,3]\n",
    "b = [4,5,6]\n",
    "c = a + b\n",
    "print(c)\n",
    "\n",
    "a.extend(b)\n",
    "print(a)\n",
    "\n",
    "# [1, 2, 3, 4, 5, 6] 결과는 동일하지만 아래와 같은 차이가 있음 순차적으로 잘 보기바람\n",
    "\n",
    "new_a = [1,2,3]\n",
    "new_b = [4,5,6]\n",
    "new_c = new_a + new_b\n",
    "\n",
    "print(id(new_a))\n",
    "print(id(new_b))\n",
    "\n",
    "# 합쳐진 new_c의 id(식별자 주소)는 독립적인 새로운 list로 생성됨\n",
    "# **변수는 식별자 주소를 통해 찾아줌\n",
    "print(id(new_c))\n",
    "\n",
    "new_a.extend(new_b)\n",
    "print(new_a)\n",
    "print(id(new_a)) ##합쳐진 이후에도 독릭접인 식별자가 생기지 않고 a 리스트에 b가 추가되기만 했음 이는 곧 메모리상 효율을 추구할 수 있음"
   ]
  },
  {
   "cell_type": "code",
   "execution_count": 64,
   "metadata": {},
   "outputs": [
    {
     "name": "stdout",
     "output_type": "stream",
     "text": [
      "[2, 3, 4, 5]\n",
      "[4, 5]\n"
     ]
    }
   ],
   "source": [
    "## 6. list index로 삭제하기\n",
    "a = [1,2,3,4,5]\n",
    "del a[0]\n",
    "print(a)\n",
    "\n",
    "del a[:2]\n",
    "print(a)"
   ]
  },
  {
   "cell_type": "code",
   "execution_count": 74,
   "metadata": {},
   "outputs": [
    {
     "name": "stdout",
     "output_type": "stream",
     "text": [
      "[2, 4, 6, 8]\n",
      "[1, 3, 5, 7, 9]\n"
     ]
    }
   ],
   "source": [
    "## 7. list 다양하게 슬라이싱하기\n",
    "# 7-1 list[start:end:step]\n",
    "a = [1,2,3,4,5,6,7,8,9,10]\n",
    "b = a[1:8:2] # start 부터 end-1 리스트에서 step만큼 건너뛰면서 list slicing\n",
    "print(b) #[2, 4, 6, 8]\n",
    "\n",
    "c =  a[::2] # 비어있으면 처음과 끝\n",
    "print(c) #[1, 3, 5, 7, 9] "
   ]
  },
  {
   "cell_type": "code",
   "execution_count": null,
   "metadata": {},
   "outputs": [],
   "source": []
  }
 ],
 "metadata": {
  "kernelspec": {
   "display_name": "Python 3",
   "language": "python",
   "name": "python3"
  },
  "language_info": {
   "codemirror_mode": {
    "name": "ipython",
    "version": 3
   },
   "file_extension": ".py",
   "mimetype": "text/x-python",
   "name": "python",
   "nbconvert_exporter": "python",
   "pygments_lexer": "ipython3",
   "version": "3.6.4"
  }
 },
 "nbformat": 4,
 "nbformat_minor": 2
}
