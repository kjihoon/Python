{
 "cells": [
  {
   "cell_type": "markdown",
   "metadata": {},
   "source": [
    "### Python 자료 구조 익히기 (tuple, set)\n",
    "##### 5. tuple"
   ]
  },
  {
   "cell_type": "code",
   "execution_count": 4,
   "metadata": {},
   "outputs": [
    {
     "name": "stdout",
     "output_type": "stream",
     "text": [
      "(1, 2, 3, 4, 5)\n",
      "(1, 2, 3, 4, 5)\n"
     ]
    }
   ],
   "source": [
    "## tuple 선언 '()' 괄호롤 감싸거나 괄호를 감싸지 않거나 두 가지 방법으로 생성\n",
    "mytuple = 1,2,3,4,5\n",
    "print(mytuple)\n",
    "mytuple2 = (1,2,3,4,5)\n",
    "print(mytuple2)"
   ]
  },
  {
   "cell_type": "code",
   "execution_count": 9,
   "metadata": {},
   "outputs": [],
   "source": [
    "## tuple 특징\n",
    "# immutable list\n",
    "# 리스트 내 요소를 변경할 수 없는 리스트 타입이다.\n",
    "# 보통 list type은 동일한 elements를 넣어 사용한다면\n",
    "# tuple type은 다른 elements를 넣어 사용한다\n",
    "\n",
    "#mytuple[1] = 3 #'tuple' object does not support item assignment\n",
    "\n",
    "\n",
    "# 인덱싱과 슬라이싱은 방법이 동일하다\n",
    "# 예제 생략\n"
   ]
  },
  {
   "cell_type": "code",
   "execution_count": 14,
   "metadata": {},
   "outputs": [
    {
     "name": "stdout",
     "output_type": "stream",
     "text": [
      "(2017, '신과함께', 1995, '쉬리')\n",
      "2017 신과함께\n",
      "1995 쉬리\n"
     ]
    }
   ],
   "source": [
    "## packing 과 unpacking\n",
    "\n",
    "# packing 서로 다른 Data type을 tuple에 포장(packing)\n",
    "myMovie = (2017,\"신과함께\",1995,\"쉬리\")\n",
    "print(myMovie)\n",
    "\n",
    "# unpacking 반대로 튜플을 각 항목별로 풀어서(unpacking) 각 변수에 할당 가능\n",
    "year1,movie1,year2,movie2 = myMovie\n",
    "print(year1,movie1)\n",
    "print(year2,movie2)\n",
    "## **참고로 언패킹을 할때는 좌측의 변수 개수와 튜플의 요소 갯수가 같아야한다!"
   ]
  },
  {
   "cell_type": "code",
   "execution_count": 19,
   "metadata": {},
   "outputs": [
    {
     "name": "stdout",
     "output_type": "stream",
     "text": [
      "[2017, '신과함께', 1995, '쉬리']\n",
      "<class 'list'>\n",
      "(2017, '신과함께', 1995, '쉬리')\n",
      "<class 'tuple'>\n"
     ]
    }
   ],
   "source": [
    "# Convert to list from tuple\n",
    "\n",
    "myMovie_list = list(myMovie)\n",
    "print(myMovie_list)\n",
    "print(type(myMovie_list))\n",
    "\n",
    "# 역으로 리스트를 튜플로 변환하는 것도 가능하다.\n",
    "myMovie_tuple = tuple(myMovie_list)\n",
    "print(myMovie_tuple)\n",
    "print(type(myMovie_tuple))\n"
   ]
  },
  {
   "cell_type": "markdown",
   "metadata": {},
   "source": [
    "#### 6. set Type"
   ]
  },
  {
   "cell_type": "code",
   "execution_count": 24,
   "metadata": {},
   "outputs": [
    {
     "name": "stdout",
     "output_type": "stream",
     "text": [
      "{'html', 'R', 'java', 'python'}\n",
      "{'c', 'a', 'b'}\n"
     ]
    }
   ],
   "source": [
    "## set 선언\n",
    "# 중괄호로 감싸서 선언\n",
    "mySet = {\"java\",\"python\",\"R\",\"html\",\"java\"}\n",
    "print(mySet)\n",
    "# set()에 문자열을 넣으면 중복된 문자는 제거한다.\n",
    "mySet2 = set(\"aaabbc\")\n",
    "print(mySet2)"
   ]
  },
  {
   "cell_type": "code",
   "execution_count": 33,
   "metadata": {},
   "outputs": [
    {
     "name": "stdout",
     "output_type": "stream",
     "text": [
      "{'귤', '포도', '사과'}\n",
      "True\n",
      "False\n"
     ]
    }
   ],
   "source": [
    "## set 특징\n",
    "# set 내 요소의 중복을 허용하지 않고 순서가 정해져있지 않다.\n",
    "# 중복을 제거하는 경우에 사용하면 좋다~~\n",
    "\n",
    "mylist = [\"사과\",\"사과\",\"포도\",\"귤\"]\n",
    "mySet =set(mylist)\n",
    "print(mySet)\n",
    "\n",
    "# 특정 요소가 존재하는지 확인가능\n",
    "####### list 와 tuple에도 아래 방법이용 가능\n",
    "result = \"사과\" in mySet\n",
    "print(result) # True\n",
    "result2 = \"오렌지\" in mySet\n",
    "print(result2) # False"
   ]
  },
  {
   "cell_type": "code",
   "execution_count": 41,
   "metadata": {},
   "outputs": [
    {
     "name": "stdout",
     "output_type": "stream",
     "text": [
      "{'a', 'n', 'o', 'h', 'i', 'j', 'g', 'e'}\n",
      "{'j', 'n', 'h'}\n",
      "{'i', 'o'}\n",
      "{'a', 'o', 'i', 'g', 'e'}\n"
     ]
    }
   ],
   "source": [
    "# 합집합 교집합 차집합 여집합 가능하다!\n",
    "# 중복 문자 제거\n",
    "set1 = set(\"jihoon\") #{'n', 'o', 'h', 'i', 'j'}\n",
    "set2 = set(\"hanjeang\") #{'a', 'n', 'h', 'j', 'g', 'e'}\n",
    "\n",
    "#합집합\n",
    "set_union = set1 | set2\n",
    "print(set_union) #{'a', 'n', 'o', 'h', 'i', 'j', 'g', 'e'}\n",
    "\n",
    "#교집합\n",
    "set_intersect = set1 & set2\n",
    "print(set_intersect) #{'j', 'n', 'h'}\n",
    "\n",
    "#차집합\n",
    "set_diff = set1 - set2\n",
    "print(set_diff) #{'i', 'o'}\n",
    "\n",
    "#여집합 (합집합 - 교집합)\n",
    "set_complement = set1 ^ set2\n",
    "print(set_complement) #{'a', 'o', 'i', 'g', 'e'}\n"
   ]
  },
  {
   "cell_type": "code",
   "execution_count": null,
   "metadata": {},
   "outputs": [],
   "source": []
  }
 ],
 "metadata": {
  "kernelspec": {
   "display_name": "Python 3",
   "language": "python",
   "name": "python3"
  },
  "language_info": {
   "codemirror_mode": {
    "name": "ipython",
    "version": 3
   },
   "file_extension": ".py",
   "mimetype": "text/x-python",
   "name": "python",
   "nbconvert_exporter": "python",
   "pygments_lexer": "ipython3",
   "version": "3.6.4"
  }
 },
 "nbformat": 4,
 "nbformat_minor": 2
}
