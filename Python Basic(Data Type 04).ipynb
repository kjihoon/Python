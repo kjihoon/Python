{
 "cells": [
  {
   "cell_type": "markdown",
   "metadata": {},
   "source": [
    "### Python 자료 구조 익히기 (Dictionary)\n",
    "##### 7. dictionary type"
   ]
  },
  {
   "cell_type": "code",
   "execution_count": 3,
   "metadata": {},
   "outputs": [
    {
     "name": "stdout",
     "output_type": "stream",
     "text": [
      "{'name': 'jihoon', 'age': 27}\n"
     ]
    }
   ],
   "source": [
    "## dictionary type 선언\n",
    "# {Key: Value}\n",
    "human = {\"name\": \"jihoon\",\"age\": 27}\n",
    "print(human)"
   ]
  },
  {
   "cell_type": "code",
   "execution_count": 14,
   "metadata": {},
   "outputs": [
    {
     "name": "stdout",
     "output_type": "stream",
     "text": [
      "{'eng': 84, 'math': 100, 'history': 92}\n",
      "<class 'dict'>\n",
      "{'eng': 84, 'math': 84, 'history': 92}\n",
      "{'math': 84, 'type': ['수학1', '수학2']}\n"
     ]
    }
   ],
   "source": [
    "## dictionary 특징\n",
    "# 1. key 와 value 쌍으로 이루어진 자료구조\n",
    "# key는 unique한 이름만 가능함\n",
    "\n",
    "# - 보통 타언어에서는 map으로 표현한다.\n",
    "# 정말 많이 사용하는 타입이기 때문에 알고 있어라!!\n",
    "# 나중에 한정이가 아주 많이 사용하게될 json 형태와 매우 유사한 구조이다.\n",
    "\n",
    "grade = {\"eng\":84,\"math\":100,\"history\":92}\n",
    "print(grade)\n",
    "print(type(grade))\n",
    "\n",
    "\n",
    "# 동일한 key가 있을때 중복을 제거해버린다!! 주의!!\n",
    "grade2 ={\"eng\":84,\"math\":100,\"math\":84,\"history\":92}\n",
    "print(grade2)\n",
    "\n",
    "# 여러 자료 유형을 value로 가질 수 있다.\n",
    "# 물론 dictionary 안에 dictionary 저장 가능하다!!\n",
    "grade3 = {\"math\":84,\"type\":[\"수학1\",\"수학2\"]}\n",
    "print(grade3)"
   ]
  },
  {
   "cell_type": "code",
   "execution_count": 24,
   "metadata": {},
   "outputs": [
    {
     "name": "stdout",
     "output_type": "stream",
     "text": [
      "3\n",
      "100\n",
      "100\n",
      "{'math': 100, 'history': 92}\n",
      "{'math': 83, 'history': 92}\n",
      "dict_keys(['math', 'history'])\n",
      "['math', 'history']\n",
      "dict_values([83, 92])\n",
      "[83, 92]\n",
      "dict_items([('math', 83), ('history', 92)])\n"
     ]
    }
   ],
   "source": [
    "## dictionary 다루기\n",
    "grade = {\"eng\":84,\"math\":100,\"history\":92}\n",
    "\n",
    "# dictionary의 갯수 추출\n",
    "print(len(grade))\n",
    "\n",
    "# dictionary 인덱싱\n",
    "math_grade = grade[\"math\"]\n",
    "print(math_grade)\n",
    "math_grade2 = grade.get(\"math\")\n",
    "print(math_grade2)\n",
    "     \n",
    "\n",
    "# dictionary 요소 삭제\n",
    "del grade[\"eng\"]\n",
    "print(grade)\n",
    "\n",
    "# dictionary value 변경\n",
    "grade[\"math\"] = 83\n",
    "print(grade)\n",
    "\n",
    "# get keys\n",
    "grade_keys = grade.keys()\n",
    "print(grade_keys)\n",
    "      \n",
    "grade_keys_list = list(grade.keys())\n",
    "print(grade_keys_list)\n",
    "\n",
    "# get values\n",
    "grade_values = grade.values()\n",
    "print(grade_values)\n",
    "      \n",
    "grade_values_list = list(grade.values())\n",
    "print(grade_values_list)\n",
    "   \n",
    "\n",
    "# key value 쌍 리스트 얻기\n",
    "# list내에 tuple로 생성\n",
    "# [(key1,value1),(key2,value2)]\n",
    "grade_items=grade.items()\n",
    "print(grade_items)"
   ]
  }
 ],
 "metadata": {
  "kernelspec": {
   "display_name": "Python 3",
   "language": "python",
   "name": "python3"
  },
  "language_info": {
   "codemirror_mode": {
    "name": "ipython",
    "version": 3
   },
   "file_extension": ".py",
   "mimetype": "text/x-python",
   "name": "python",
   "nbconvert_exporter": "python",
   "pygments_lexer": "ipython3",
   "version": "3.6.4"
  }
 },
 "nbformat": 4,
 "nbformat_minor": 2
}
