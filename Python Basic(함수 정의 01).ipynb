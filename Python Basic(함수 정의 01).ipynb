{
 "cells": [
  {
   "cell_type": "markdown",
   "metadata": {},
   "source": [
    "### Python 함수 정의하기\n",
    "####  1.def"
   ]
  },
  {
   "cell_type": "markdown",
   "metadata": {},
   "source": [
    "#### 1) 함수란\n",
    "- 소스 코드를 사용하여 일련의 행동을 기술한 것\n",
    "- 변수 선언과 마찬가지로 숫자로 시작되는 이름으로는 선언이 불가하다\n",
    "- 크게 아래 3가지가 필요\n",
    "    - 함수명\n",
    "    - 매개변수(인자, Parameter)\n",
    "    - 반환값 (return)\n",
    "- ex) print(\"hello hanjeong\")\n",
    "    - 함수명 print\n",
    "    - 매개변수 \"hello hanjeong\"\n",
    "    - 반환값 hello hanjeong\n"
   ]
  },
  {
   "cell_type": "code",
   "execution_count": 7,
   "metadata": {},
   "outputs": [
    {
     "name": "stdout",
     "output_type": "stream",
     "text": [
      "지훈님 안녕하세요\n"
     ]
    }
   ],
   "source": [
    "# 기본적인 함수 선언\n",
    "def my_func(param):\n",
    "    return param+\"님 안녕하세요\"\n",
    "\n",
    "output = my_func(\"지훈\")\n",
    "print(output)\n",
    "\n",
    "# 함수명 my_func\n",
    "# 매개변수 param\n",
    "# 로직 print(parma), def 함수명: 아래 들여쓰기로 로직블록 선언\n",
    "# 반환값 param 님 안녕하세요"
   ]
  },
  {
   "cell_type": "code",
   "execution_count": 9,
   "metadata": {},
   "outputs": [
    {
     "data": {
      "text/plain": [
       "'지훈님 안녕하세요'"
      ]
     },
     "execution_count": 9,
     "metadata": {},
     "output_type": "execute_result"
    }
   ],
   "source": [
    "# 반환값이 없는 함수 선언\n",
    "def my_func2(param):\n",
    "    print(param,\"님 안녕하세요\")\n",
    "my_func(\"지훈\")"
   ]
  },
  {
   "cell_type": "code",
   "execution_count": 10,
   "metadata": {},
   "outputs": [
    {
     "name": "stdout",
     "output_type": "stream",
     "text": [
      "지훈님 안녕하세요\n"
     ]
    }
   ],
   "source": [
    "# 인자값이 없는 함수 선언\n",
    "def my_func3():\n",
    "    print(\"지훈님 안녕하세요\")\n",
    "my_func3()"
   ]
  },
  {
   "cell_type": "code",
   "execution_count": 16,
   "metadata": {},
   "outputs": [
    {
     "name": "stdout",
     "output_type": "stream",
     "text": [
      "None\n",
      "3\n"
     ]
    }
   ],
   "source": [
    "# return 값을 선언하지 않으면 아무것도 반환하지 않는다!\n",
    "def summation (a,b):\n",
    "    a+b\n",
    "c=summation(1,2)\n",
    "print(c) #None\n",
    "\n",
    "def summation (a,b):\n",
    "    return a+b\n",
    "    \n",
    "c=summation(1,2)\n",
    "print(c) #3\n"
   ]
  },
  {
   "cell_type": "code",
   "execution_count": 20,
   "metadata": {},
   "outputs": [
    {
     "name": "stdout",
     "output_type": "stream",
     "text": [
      "지훈 님은 치킨 를 좋아합니다.\n",
      "지훈 님은 피자 를 좋아합니다.\n"
     ]
    }
   ],
   "source": [
    "# default 인자값 사용하기\n",
    "def my_func4(name,food=\"치킨\"):\n",
    "    print(name,\"님은\",food,\"를 좋아합니다.\")\n",
    "    \n",
    "my_func4(\"지훈\") #지훈 님은 치킨 를 좋아합니다.\n",
    "my_func4(\"지훈\",food=\"피자\") #지훈 님은 피자를 좋아합니다.\n"
   ]
  },
  {
   "cell_type": "code",
   "execution_count": 29,
   "metadata": {},
   "outputs": [
    {
     "name": "stdout",
     "output_type": "stream",
     "text": [
      "지훈 님 안녕하세요\n",
      "지훈\n",
      "지훈 님 안녕하세요\n"
     ]
    },
    {
     "ename": "NameError",
     "evalue": "name 'name2' is not defined",
     "output_type": "error",
     "traceback": [
      "\u001b[1;31m---------------------------------------------------------------------------\u001b[0m",
      "\u001b[1;31mNameError\u001b[0m                                 Traceback (most recent call last)",
      "\u001b[1;32m<ipython-input-29-42d0b295de9d>\u001b[0m in \u001b[0;36m<module>\u001b[1;34m()\u001b[0m\n\u001b[0;32m     14\u001b[0m     \u001b[0mprint\u001b[0m\u001b[1;33m(\u001b[0m\u001b[0mname2\u001b[0m\u001b[1;33m,\u001b[0m\u001b[0mgreet\u001b[0m\u001b[1;33m)\u001b[0m\u001b[1;33m\u001b[0m\u001b[0m\n\u001b[0;32m     15\u001b[0m \u001b[0mhello2\u001b[0m\u001b[1;33m(\u001b[0m\u001b[1;34m\"님 안녕하세요\"\u001b[0m\u001b[1;33m)\u001b[0m\u001b[1;33m\u001b[0m\u001b[0m\n\u001b[1;32m---> 16\u001b[1;33m \u001b[0mprint\u001b[0m\u001b[1;33m(\u001b[0m\u001b[0mname2\u001b[0m\u001b[1;33m)\u001b[0m \u001b[1;31m#Name Error\u001b[0m\u001b[1;33m\u001b[0m\u001b[0m\n\u001b[0m",
      "\u001b[1;31mNameError\u001b[0m: name 'name2' is not defined"
     ]
    }
   ],
   "source": [
    "# local(지역) 변수와 grobal(전역) 변수 구분하기!!\n",
    "\n",
    "\n",
    "## 전역변수는 함수 내에서 사용가능하다!!\n",
    "name = \"지훈\"\n",
    "def hello(greet):\n",
    "    print(name,greet)\n",
    "hello(\"님 안녕하세요\")\n",
    "print(name)\n",
    "## 로컬변수는 함수 밖에서 사용할 수 없다!!\n",
    "\n",
    "def hello2(greet):\n",
    "    name2 = \"지훈\"\n",
    "    print(name2,greet)\n",
    "hello2(\"님 안녕하세요\")\n",
    "print(name2) #Name Error"
   ]
  },
  {
   "cell_type": "code",
   "execution_count": 31,
   "metadata": {},
   "outputs": [
    {
     "name": "stdout",
     "output_type": "stream",
     "text": [
      "지훈\n"
     ]
    }
   ],
   "source": [
    "## 다른 예\n",
    "\n",
    "# 함수내에서 전역변수값을 변경해도 전역변수가 변하지 않고 함수 내에서 새로운 지역변수가 초기화 될뿐이다!!\n",
    "# 전역변수와 지역변수 이름을 동일하게 선언하는 것은 안좋은 코딩방법이다!!\n",
    "\n",
    "name = \"지훈\"\n",
    "def convert_name():\n",
    "    name = \"한정\"\n",
    "convert_name()\n",
    "print(name) #지훈"
   ]
  },
  {
   "cell_type": "code",
   "execution_count": 37,
   "metadata": {},
   "outputs": [
    {
     "data": {
      "text/plain": [
       "120"
      ]
     },
     "execution_count": 37,
     "metadata": {},
     "output_type": "execute_result"
    }
   ],
   "source": [
    "## 재귀함수 (함수 재귀호출, 함수내에서 자기자신(함수) 호출하기)\n",
    "\n",
    "# 대표적으로 factorial을 구현할때 이용됨\n",
    "# 아주많이 사용되는 함수 형태이기 때문에 꼭 기억하는 것이 좋다!\n",
    "def factorial(n):\n",
    "    if n == 1:      # n이 1일 때\n",
    "        return 1    # 1을 반환하고 재귀호출을 끝냄 (n이 1이될때까지 함수 재귀호출)\n",
    "    else:    \n",
    "        return n * factorial(n - 1)    # n과 factorial 함수에 n - 1을 넣어서 반환된 값을 곱함\n",
    "\n",
    "factorial(5)"
   ]
  },
  {
   "cell_type": "code",
   "execution_count": 43,
   "metadata": {},
   "outputs": [
    {
     "name": "stdout",
     "output_type": "stream",
     "text": [
      "3 x 1 = 3\n",
      "3 x 2 = 6\n",
      "3 x 3 = 9\n",
      "3 x 4 = 12\n",
      "3 x 5 = 15\n",
      "3 x 6 = 18\n",
      "3 x 7 = 21\n",
      "3 x 8 = 24\n",
      "3 x 9 = 27\n"
     ]
    }
   ],
   "source": [
    "## 예제 dan을 입력받아 구구단을 프린트하는 함수 만들기!!\n",
    "\n",
    "def googoodan(dan):\n",
    "    if (dan>9 or dan<1): \n",
    "        return # 9보다 크거나 1보다 작을때 강제로 함수 종료\n",
    "    for i in range(1,10):\n",
    "        print(dan,\"x\",i,\"=\",dan*i)\n",
    "googoodan(3)\n",
    "\n",
    "googoodan(10) #None"
   ]
  }
 ],
 "metadata": {
  "kernelspec": {
   "display_name": "Python 3",
   "language": "python",
   "name": "python3"
  },
  "language_info": {
   "codemirror_mode": {
    "name": "ipython",
    "version": 3
   },
   "file_extension": ".py",
   "mimetype": "text/x-python",
   "name": "python",
   "nbconvert_exporter": "python",
   "pygments_lexer": "ipython3",
   "version": "3.6.4"
  }
 },
 "nbformat": 4,
 "nbformat_minor": 2
}
