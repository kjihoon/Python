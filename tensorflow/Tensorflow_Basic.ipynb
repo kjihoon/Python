{
 "cells": [
  {
   "cell_type": "code",
   "execution_count": 1,
   "metadata": {},
   "outputs": [],
   "source": [
    "import tensorflow as tf"
   ]
  },
  {
   "cell_type": "code",
   "execution_count": 2,
   "metadata": {},
   "outputs": [
    {
     "data": {
      "text/plain": [
       "'1.7.0'"
      ]
     },
     "execution_count": 2,
     "metadata": {},
     "output_type": "execute_result"
    }
   ],
   "source": [
    "tf.__version__"
   ]
  },
  {
   "cell_type": "code",
   "execution_count": 4,
   "metadata": {},
   "outputs": [
    {
     "name": "stdout",
     "output_type": "stream",
     "text": [
      "b'Hello,Tensorflow!'\n"
     ]
    }
   ],
   "source": [
    "#Create a constant operation\n",
    "hello=tf.constant(\"Hello,Tensorflow!\")\n",
    "\n",
    "#seart a TF session\n",
    "sess=tf.Session()\n",
    "\n",
    "#run the op and get result \n",
    "print(sess.run(hello))"
   ]
  },
  {
   "cell_type": "code",
   "execution_count": 5,
   "metadata": {},
   "outputs": [
    {
     "name": "stdout",
     "output_type": "stream",
     "text": [
      "node1: Tensor(\"Const_2:0\", shape=(), dtype=float32) node2: Tensor(\"Const_3:0\", shape=(), dtype=float32)\n",
      "node3: Tensor(\"Add:0\", shape=(), dtype=float32)\n",
      "sess.run(node1, node2): [3.0, 4.0]\n",
      "sess.run(node3): 7.0\n"
     ]
    }
   ],
   "source": [
    "###Computational Graph\n",
    "\n",
    "node1=tf.constant(3.0, tf.float32)\n",
    "node2=tf.constant(4.0, tf.float32)\n",
    "node3=tf.add(node1, node2)\n",
    "\n",
    "print(\"node1:\", node1, \"node2:\", node2)\n",
    "print(\"node3:\", node3)\n",
    "\n",
    "sess=tf.Session()\n",
    "print(\"sess.run(node1, node2):\", sess.run([node1,node2]))\n",
    "print(\"sess.run(node3):\", sess.run(node3))"
   ]
  },
  {
   "cell_type": "code",
   "execution_count": 8,
   "metadata": {},
   "outputs": [
    {
     "name": "stdout",
     "output_type": "stream",
     "text": [
      "7.5\n",
      "[3. 7.]\n"
     ]
    }
   ],
   "source": [
    "###placeholder\n",
    "\n",
    "#1. Build graph using Tensorflow operations\n",
    "a=tf.placeholder(tf.float32)\n",
    "b=tf.placeholder(tf.float32)\n",
    "adder_node=a+b\n",
    "\n",
    "#2. feed data and run graph(operation)\n",
    "#3. update variables in the graph(and return values)\n",
    "print(sess.run(adder_node, feed_dict={a:3, b:4.5}))\n",
    "print(sess.run(adder_node, feed_dict={a:[1, 3], b:[2, 4]}))"
   ]
  },
  {
   "cell_type": "code",
   "execution_count": 9,
   "metadata": {},
   "outputs": [
    {
     "data": {
      "text/plain": [
       "[[[1.0, 2.0, 3]], [[7.0, 8.0, 9.0]]]"
      ]
     },
     "execution_count": 9,
     "metadata": {},
     "output_type": "execute_result"
    }
   ],
   "source": [
    "### different Tensor(Everything is Tensor) \n",
    "\n",
    "#a rank 0 tensor; this is a sclar with shape[]\n",
    "3\n",
    "#a rank 1 tensor; this is a vector with shape[3]\n",
    "[1., 2., 3.] \n",
    "#a rank 2 tensor; this is a matrix with shape[2,3]\n",
    "[[1., 2., 3.], [4., 5., 6.]]\n",
    "#a rank 3 tensor; this is a 3 tensor with shape[2, 1, 3]\n",
    "[[[1., 2., 3]], [[7., 8., 9.]]]"
   ]
  },
  {
   "cell_type": "code",
   "execution_count": null,
   "metadata": {},
   "outputs": [],
   "source": []
  }
 ],
 "metadata": {
  "kernelspec": {
   "display_name": "Python [conda env:tensorflow]",
   "language": "python",
   "name": "conda-env-tensorflow-py"
  },
  "language_info": {
   "codemirror_mode": {
    "name": "ipython",
    "version": 3
   },
   "file_extension": ".py",
   "mimetype": "text/x-python",
   "name": "python",
   "nbconvert_exporter": "python",
   "pygments_lexer": "ipython3",
   "version": "3.5.5"
  }
 },
 "nbformat": 4,
 "nbformat_minor": 2
}
