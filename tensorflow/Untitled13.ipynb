{
 "cells": [
  {
   "cell_type": "code",
   "execution_count": 3,
   "metadata": {},
   "outputs": [
    {
     "name": "stdout",
     "output_type": "stream",
     "text": [
      "2\n",
      "13 taki\n",
      "34 toyo\n",
      "13 taki\n",
      "34 toyo\n"
     ]
    }
   ],
   "source": [
    "n=int(input())\n",
    "k=[]\n",
    "for i in range(n):\n",
    "    n_1,m_1=input().split()\n",
    "    k.append([int(n_1),m_1,i])\n",
    "    \n",
    "def f(k):\n",
    "    return (k[0],k[2])\n",
    "\n",
    "k=sorted(k,key=f)\n",
    "\n",
    "for i in range(len(k)):\n",
    "    print(str(k[i][0])+\" \"+k[i][1])"
   ]
  },
  {
   "cell_type": "code",
   "execution_count": null,
   "metadata": {},
   "outputs": [],
   "source": []
  },
  {
   "cell_type": "code",
   "execution_count": null,
   "metadata": {},
   "outputs": [],
   "source": []
  }
 ],
 "metadata": {
  "kernelspec": {
   "display_name": "Python 3",
   "language": "python",
   "name": "python3"
  },
  "language_info": {
   "codemirror_mode": {
    "name": "ipython",
    "version": 3
   },
   "file_extension": ".py",
   "mimetype": "text/x-python",
   "name": "python",
   "nbconvert_exporter": "python",
   "pygments_lexer": "ipython3",
   "version": "3.6.4"
  }
 },
 "nbformat": 4,
 "nbformat_minor": 2
}
