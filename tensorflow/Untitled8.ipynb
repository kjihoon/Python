{
 "cells": [
  {
   "cell_type": "code",
   "execution_count": 5,
   "metadata": {},
   "outputs": [
    {
     "name": "stdout",
     "output_type": "stream",
     "text": [
      "b'hello jihoon!'\n"
     ]
    }
   ],
   "source": [
    "#lecture 1\n",
    "\n",
    "import tensorflow as tf\n",
    "\n",
    "hello = tf.constant(\"hello jihoon!\")\n",
    "sess = tf.Session()\n",
    "print(sess.run(hello))"
   ]
  },
  {
   "cell_type": "code",
   "execution_count": 12,
   "metadata": {},
   "outputs": [
    {
     "name": "stdout",
     "output_type": "stream",
     "text": [
      "node1: Tensor(\"Const_13:0\", shape=(), dtype=float32)\n",
      "[3.0, 4.0]\n",
      "[7.0]\n"
     ]
    }
   ],
   "source": [
    "#constant (fixed value)\n",
    "node1 = tf.constant(3.0,tf.float32)\n",
    "node2 = tf.constant(4.0)\n",
    "node3 = tf.add(node1,node2)\n",
    "\n",
    "print(\"node1:\",node1)\n",
    "\n",
    "print(sess.run([node1,node2]))\n",
    "print(sess.run([node3])) \n",
    "\n",
    "# 1. build graph using tensorflow operations\n",
    "# 2. feed data and run graph  ,sess.run(op,dict={x:x_data})\n",
    "# 3. retrun values"
   ]
  },
  {
   "cell_type": "code",
   "execution_count": 17,
   "metadata": {},
   "outputs": [
    {
     "name": "stdout",
     "output_type": "stream",
     "text": [
      "8.0\n",
      "[5. 7. 9.]\n"
     ]
    }
   ],
   "source": [
    "#placeholder (variable)\n",
    "a = tf.placeholder(tf.float32)\n",
    "b = tf.placeholder(tf.float32)\n",
    "adder_node = a+b\n",
    "\n",
    "print(sess.run(adder_node,feed_dict={a:3,b:5}))\n",
    "\n",
    "print(sess.run(adder_node,feed_dict={a:[1,2,3],b:[4,5,6]}))"
   ]
  },
  {
   "cell_type": "code",
   "execution_count": null,
   "metadata": {},
   "outputs": [],
   "source": [
    "#####Tensor \n",
    "#Ranks (scala vector matrix n-dimension) \n",
    "#Shape ([V0],[V0,V1],[V0,V1.....VN-1]) n-D\n",
    "###Data Types\n",
    "#tf.float32  32bit floating point\n",
    "#tf.int32   .....\n",
    "#.... \n",
    "\n",
    "t = [[1,2,3],[4,5,6],[7,8,9]]\n",
    "\n",
    "\n",
    "\n",
    "\n"
   ]
  },
  {
   "cell_type": "code",
   "execution_count": 18,
   "metadata": {},
   "outputs": [
    {
     "ename": "NameError",
     "evalue": "name 'filename' is not defined",
     "output_type": "error",
     "traceback": [
      "\u001b[1;31m---------------------------------------------------------------------------\u001b[0m",
      "\u001b[1;31mNameError\u001b[0m                                 Traceback (most recent call last)",
      "\u001b[1;32m<ipython-input-18-389680e7b05e>\u001b[0m in \u001b[0;36m<module>\u001b[1;34m()\u001b[0m\n\u001b[0;32m      1\u001b[0m \u001b[1;32mimport\u001b[0m \u001b[0mos\u001b[0m\u001b[1;33m\u001b[0m\u001b[0m\n\u001b[1;32m----> 2\u001b[1;33m \u001b[0mos\u001b[0m\u001b[1;33m.\u001b[0m\u001b[0mpath\u001b[0m\u001b[1;33m.\u001b[0m\u001b[0mdirname\u001b[0m\u001b[1;33m(\u001b[0m\u001b[0mfilename\u001b[0m\u001b[1;33m)\u001b[0m\u001b[1;33m\u001b[0m\u001b[0m\n\u001b[0m",
      "\u001b[1;31mNameError\u001b[0m: name 'filename' is not defined"
     ]
    }
   ],
   "source": [
    "import os\n",
    "os.path.dirname(filename) "
   ]
  }
 ],
 "metadata": {
  "kernelspec": {
   "display_name": "Python [conda env:tensorflow]",
   "language": "python",
   "name": "conda-env-tensorflow-py"
  },
  "language_info": {
   "codemirror_mode": {
    "name": "ipython",
    "version": 3
   },
   "file_extension": ".py",
   "mimetype": "text/x-python",
   "name": "python",
   "nbconvert_exporter": "python",
   "pygments_lexer": "ipython3",
   "version": "3.5.5"
  }
 },
 "nbformat": 4,
 "nbformat_minor": 2
}
